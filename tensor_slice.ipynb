{
  "nbformat": 4,
  "nbformat_minor": 0,
  "metadata": {
    "colab": {
      "name": "Untitled1.ipynb",
      "provenance": [],
      "collapsed_sections": [],
      "toc_visible": true,
      "authorship_tag": "ABX9TyO/EzMj9c8LRg7VSGbKspXi",
      "include_colab_link": true
    },
    "kernelspec": {
      "name": "python3",
      "display_name": "Python 3"
    }
  },
  "cells": [
    {
      "cell_type": "markdown",
      "metadata": {
        "id": "view-in-github",
        "colab_type": "text"
      },
      "source": [
        "<a href=\"https://colab.research.google.com/github/vnkrush/Neural_Networks_and_CV/blob/master/tensor_slice.ipynb\" target=\"_parent\"><img src=\"https://colab.research.google.com/assets/colab-badge.svg\" alt=\"Open In Colab\"/></a>"
      ]
    },
    {
      "cell_type": "markdown",
      "metadata": {
        "id": "rLVL9bvZQM4S"
      },
      "source": [
        "# Новый раздел"
      ]
    },
    {
      "cell_type": "code",
      "metadata": {
        "id": "IrnW7fxOQyTI"
      },
      "source": [
        "from google.colab import files\n",
        "\n",
        "with open('example.txt', 'w') as f:\n",
        "  f.write('some content')\n",
        "\n",
        "files.download('example.txt')"
      ],
      "execution_count": null,
      "outputs": []
    },
    {
      "cell_type": "code",
      "metadata": {
        "id": "sbCCk-ZHbvwn",
        "colab": {
          "base_uri": "https://localhost:8080/"
        },
        "outputId": "0b4a7bd2-b2d1-4f0a-87f0-dd275c20e41f"
      },
      "source": [
        "import torch\n",
        "\n",
        "# Создаем входной массив из двух изображений RGB 3*3\n",
        "input_images = torch.tensor(\n",
        "      [[[[0,  1,  2],\n",
        "         [3,  4,  5],\n",
        "         [6,  7,  8]],\n",
        "\n",
        "        [[9, 10, 11],\n",
        "         [12, 13, 14],\n",
        "         [15, 16, 17]],\n",
        "\n",
        "        [[18, 19, 20],\n",
        "         [21, 22, 23],\n",
        "         [24, 25, 26]]],\n",
        "\n",
        "\n",
        "       [[[27, 28, 29],\n",
        "         [30, 31, 32],\n",
        "         [33, 34, 35]],\n",
        "\n",
        "        [[36, 37, 38],\n",
        "         [39, 40, 41],\n",
        "         [42, 43, 44]],\n",
        "\n",
        "        [[45, 46, 47],\n",
        "         [48, 49, 50],\n",
        "         [51, 52, 53]]]])\n",
        "\n",
        "\n",
        "\n",
        "\n",
        "# Создаем входной массив из двух изображений RGB 3*3\n",
        "input_images = torch.tensor(\n",
        "      [[[[0,  1,  2],\n",
        "         [3,  4,  5],\n",
        "         [6,  7,  8]],\n",
        "\n",
        "        [[9, 10, 11],\n",
        "         [12, 13, 14],\n",
        "         [15, 16, 17]],\n",
        "\n",
        "        [[18, 19, 20],\n",
        "         [21, 22, 23],\n",
        "         [24, 25, 26]]],\n",
        "\n",
        "\n",
        "       [[[27, 28, 29],\n",
        "         [30, 31, 32],\n",
        "         [33, 34, 35]],\n",
        "\n",
        "        [[36, 37, 38],\n",
        "         [39, 40, 41],\n",
        "         [42, 43, 44]],\n",
        "\n",
        "        [[45, 46, 47],\n",
        "         [48, 49, 50],\n",
        "         [51, 52, 53]]]])\n",
        "\n",
        "\n",
        "def get_padding2d(input_images):\n",
        "    \n",
        "\n",
        "    sh = input_images.shape\n",
        "    print(sh)\n",
        "    padded_images = torch.zeros(sh[0] ,sh[1] ,sh[2] + 2,sh[3]+2).float()\n",
        "    y = padded_images[:sh[0],:sh[1],1:sh[2]+1,1:sh[3]+1]\n",
        "    print(y.shape)\n",
        "    padded_images[:sh[0],:sh[1],1:sh[2]+1,1:sh[3]+1] = input_images\n",
        "    return padded_images\n",
        "\n",
        "\n",
        "correct_padded_images = torch.tensor(\n",
        "       [[[[0.,  0.,  0.,  0.,  0.],\n",
        "          [0.,  0.,  1.,  2.,  0.],\n",
        "          [0.,  3.,  4.,  5.,  0.],\n",
        "          [0.,  6.,  7.,  8.,  0.],\n",
        "          [0.,  0.,  0.,  0.,  0.]],\n",
        "\n",
        "         [[0.,  0.,  0.,  0.,  0.],\n",
        "          [0.,  9., 10., 11.,  0.],\n",
        "          [0., 12., 13., 14.,  0.],\n",
        "          [0., 15., 16., 17.,  0.],\n",
        "          [0.,  0.,  0.,  0.,  0.]],\n",
        "\n",
        "         [[0.,  0.,  0.,  0.,  0.],\n",
        "          [0., 18., 19., 20.,  0.],\n",
        "          [0., 21., 22., 23.,  0.],\n",
        "          [0., 24., 25., 26.,  0.],\n",
        "          [0.,  0.,  0.,  0.,  0.]]],\n",
        "\n",
        "\n",
        "        [[[0.,  0.,  0.,  0.,  0.],\n",
        "          [0., 27., 28., 29.,  0.],\n",
        "          [0., 30., 31., 32.,  0.],\n",
        "          [0., 33., 34., 35.,  0.],\n",
        "          [0.,  0.,  0.,  0.,  0.]],\n",
        "\n",
        "         [[0.,  0.,  0.,  0.,  0.],\n",
        "          [0., 36., 37., 38.,  0.],\n",
        "          [0., 39., 40., 41.,  0.],\n",
        "          [0., 42., 43., 44.,  0.],\n",
        "          [0.,  0.,  0.,  0.,  0.]],\n",
        "\n",
        "         [[0.,  0.,  0.,  0.,  0.],\n",
        "          [0., 45., 46., 47.,  0.],\n",
        "          [0., 48., 49., 50.,  0.],\n",
        "          [0., 51., 52., 53.,  0.],\n",
        "          [0.,  0.,  0.,  0.,  0.]]]])\n",
        "\n",
        "# Проверка происходит автоматически вызовом следующего кода\n",
        "# (раскомментируйте для самостоятельной проверки,\n",
        "#  в коде для сдачи задания должно быть закомментировано):\n",
        "print(get_padding2d(input_images))\n",
        "#print(torch.allclose(get_padding2d(input_images), correct_padded_\n",
        "\n",
        "\n",
        "\n",
        "\n"
      ],
      "execution_count": 23,
      "outputs": [
        {
          "output_type": "stream",
          "text": [
            "torch.Size([2, 3, 3, 3])\n",
            "torch.Size([2, 3, 3, 3])\n",
            "tensor([[[[ 0.,  0.,  0.,  0.,  0.],\n",
            "          [ 0.,  0.,  1.,  2.,  0.],\n",
            "          [ 0.,  3.,  4.,  5.,  0.],\n",
            "          [ 0.,  6.,  7.,  8.,  0.],\n",
            "          [ 0.,  0.,  0.,  0.,  0.]],\n",
            "\n",
            "         [[ 0.,  0.,  0.,  0.,  0.],\n",
            "          [ 0.,  9., 10., 11.,  0.],\n",
            "          [ 0., 12., 13., 14.,  0.],\n",
            "          [ 0., 15., 16., 17.,  0.],\n",
            "          [ 0.,  0.,  0.,  0.,  0.]],\n",
            "\n",
            "         [[ 0.,  0.,  0.,  0.,  0.],\n",
            "          [ 0., 18., 19., 20.,  0.],\n",
            "          [ 0., 21., 22., 23.,  0.],\n",
            "          [ 0., 24., 25., 26.,  0.],\n",
            "          [ 0.,  0.,  0.,  0.,  0.]]],\n",
            "\n",
            "\n",
            "        [[[ 0.,  0.,  0.,  0.,  0.],\n",
            "          [ 0., 27., 28., 29.,  0.],\n",
            "          [ 0., 30., 31., 32.,  0.],\n",
            "          [ 0., 33., 34., 35.,  0.],\n",
            "          [ 0.,  0.,  0.,  0.,  0.]],\n",
            "\n",
            "         [[ 0.,  0.,  0.,  0.,  0.],\n",
            "          [ 0., 36., 37., 38.,  0.],\n",
            "          [ 0., 39., 40., 41.,  0.],\n",
            "          [ 0., 42., 43., 44.,  0.],\n",
            "          [ 0.,  0.,  0.,  0.,  0.]],\n",
            "\n",
            "         [[ 0.,  0.,  0.,  0.,  0.],\n",
            "          [ 0., 45., 46., 47.,  0.],\n",
            "          [ 0., 48., 49., 50.,  0.],\n",
            "          [ 0., 51., 52., 53.,  0.],\n",
            "          [ 0.,  0.,  0.,  0.,  0.]]]])\n"
          ],
          "name": "stdout"
        }
      ]
    },
    {
      "cell_type": "code",
      "metadata": {
        "id": "dYRT8ZWtmALF"
      },
      "source": [
        ""
      ],
      "execution_count": null,
      "outputs": []
    }
  ]
}